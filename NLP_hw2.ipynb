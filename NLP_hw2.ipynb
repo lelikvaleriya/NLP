{
 "cells": [
  {
   "cell_type": "code",
   "execution_count": 48,
   "metadata": {},
   "outputs": [],
   "source": [
    "import pandas as pd\n",
    "import gzip\n",
    "import wget\n",
    "import gensim\n",
    "import nltk\n",
    "from nltk.collocations import *"
   ]
  },
  {
   "cell_type": "code",
   "execution_count": 2,
   "metadata": {},
   "outputs": [],
   "source": [
    "def parse(path):\n",
    "    g = gzip.open(path, 'rb')\n",
    "    true = True\n",
    "    false = False\n",
    "    for l in g:\n",
    "        yield eval(l)\n",
    "\n",
    "def getDF(path):\n",
    "    i = 0\n",
    "    df = {}\n",
    "    for d in parse(path):\n",
    "        df[i] = d\n",
    "        i += 1\n",
    "    return pd.DataFrame.from_dict(df, orient='index')\n",
    "\n",
    "df = getDF(r'C:\\\\Users\\\\Лера\\\\Musical_Instruments.json.gz')"
   ]
  },
  {
   "cell_type": "markdown",
   "metadata": {},
   "source": [
    "Объединим два датафрейма (с отзывами и метаданными) по значению asin"
   ]
  },
  {
   "cell_type": "code",
   "execution_count": 3,
   "metadata": {},
   "outputs": [],
   "source": [
    "df_reviews = df[['reviewText', 'asin']]"
   ]
  },
  {
   "cell_type": "code",
   "execution_count": 4,
   "metadata": {},
   "outputs": [
    {
     "data": {
      "text/html": [
       "<div>\n",
       "<style scoped>\n",
       "    .dataframe tbody tr th:only-of-type {\n",
       "        vertical-align: middle;\n",
       "    }\n",
       "\n",
       "    .dataframe tbody tr th {\n",
       "        vertical-align: top;\n",
       "    }\n",
       "\n",
       "    .dataframe thead th {\n",
       "        text-align: right;\n",
       "    }\n",
       "</style>\n",
       "<table border=\"1\" class=\"dataframe\">\n",
       "  <thead>\n",
       "    <tr style=\"text-align: right;\">\n",
       "      <th></th>\n",
       "      <th>reviewText</th>\n",
       "      <th>asin</th>\n",
       "    </tr>\n",
       "  </thead>\n",
       "  <tbody>\n",
       "    <tr>\n",
       "      <th>0</th>\n",
       "      <td>Crocheting for Dummies by Karen Manthey &amp; Susa...</td>\n",
       "      <td>0470536454</td>\n",
       "    </tr>\n",
       "    <tr>\n",
       "      <th>1</th>\n",
       "      <td>Very helpful...</td>\n",
       "      <td>0470536454</td>\n",
       "    </tr>\n",
       "    <tr>\n",
       "      <th>2</th>\n",
       "      <td>EASY TO UNDERSTAND AND A PROMPT SERVICE TOO</td>\n",
       "      <td>0470536454</td>\n",
       "    </tr>\n",
       "    <tr>\n",
       "      <th>3</th>\n",
       "      <td>My girlfriend use quite often</td>\n",
       "      <td>0470536454</td>\n",
       "    </tr>\n",
       "    <tr>\n",
       "      <th>4</th>\n",
       "      <td>Arrived as described. Very happy.</td>\n",
       "      <td>0470536454</td>\n",
       "    </tr>\n",
       "  </tbody>\n",
       "</table>\n",
       "</div>"
      ],
      "text/plain": [
       "                                          reviewText        asin\n",
       "0  Crocheting for Dummies by Karen Manthey & Susa...  0470536454\n",
       "1                                    Very helpful...  0470536454\n",
       "2        EASY TO UNDERSTAND AND A PROMPT SERVICE TOO  0470536454\n",
       "3                      My girlfriend use quite often  0470536454\n",
       "4                  Arrived as described. Very happy.  0470536454"
      ]
     },
     "execution_count": 4,
     "metadata": {},
     "output_type": "execute_result"
    }
   ],
   "source": [
    "df_reviews.head(5)"
   ]
  },
  {
   "cell_type": "code",
   "execution_count": 5,
   "metadata": {},
   "outputs": [],
   "source": [
    "df2 = getDF(r'C:\\\\Users\\\\Лера\\\\meta_Musical_Instruments.json.gz')"
   ]
  },
  {
   "cell_type": "code",
   "execution_count": 6,
   "metadata": {},
   "outputs": [
    {
     "data": {
      "text/html": [
       "<div>\n",
       "<style scoped>\n",
       "    .dataframe tbody tr th:only-of-type {\n",
       "        vertical-align: middle;\n",
       "    }\n",
       "\n",
       "    .dataframe tbody tr th {\n",
       "        vertical-align: top;\n",
       "    }\n",
       "\n",
       "    .dataframe thead th {\n",
       "        text-align: right;\n",
       "    }\n",
       "</style>\n",
       "<table border=\"1\" class=\"dataframe\">\n",
       "  <thead>\n",
       "    <tr style=\"text-align: right;\">\n",
       "      <th></th>\n",
       "      <th>category</th>\n",
       "      <th>tech1</th>\n",
       "      <th>description</th>\n",
       "      <th>fit</th>\n",
       "      <th>title</th>\n",
       "      <th>also_buy</th>\n",
       "      <th>tech2</th>\n",
       "      <th>brand</th>\n",
       "      <th>feature</th>\n",
       "      <th>rank</th>\n",
       "      <th>also_view</th>\n",
       "      <th>main_cat</th>\n",
       "      <th>similar_item</th>\n",
       "      <th>date</th>\n",
       "      <th>price</th>\n",
       "      <th>asin</th>\n",
       "      <th>imageURL</th>\n",
       "      <th>imageURLHighRes</th>\n",
       "      <th>details</th>\n",
       "    </tr>\n",
       "  </thead>\n",
       "  <tbody>\n",
       "    <tr>\n",
       "      <th>0</th>\n",
       "      <td>[Musical Instruments, Drums &amp; Percussion, Hand...</td>\n",
       "      <td></td>\n",
       "      <td>[Cricket Rubbing the spine with the wooden sti...</td>\n",
       "      <td></td>\n",
       "      <td>Wooden Percussion 2 Piece Set of 3 Inch Cricke...</td>\n",
       "      <td>[B00NP8GYVS, B00NP80XMO, B00NP8M098]</td>\n",
       "      <td></td>\n",
       "      <td>WADSUWAN SHOP</td>\n",
       "      <td>[Wood percussion, Owl whistle*, Includes woode...</td>\n",
       "      <td>[&gt;#141,729 in Musical Instruments (See Top 100...</td>\n",
       "      <td>[]</td>\n",
       "      <td>Musical Instruments</td>\n",
       "      <td></td>\n",
       "      <td>December 2, 2013</td>\n",
       "      <td></td>\n",
       "      <td>0000989983</td>\n",
       "      <td>[https://images-na.ssl-images-amazon.com/image...</td>\n",
       "      <td>[https://images-na.ssl-images-amazon.com/image...</td>\n",
       "      <td>NaN</td>\n",
       "    </tr>\n",
       "    <tr>\n",
       "      <th>1</th>\n",
       "      <td>[Musical Instruments, Drums &amp; Percussion, Hand...</td>\n",
       "      <td></td>\n",
       "      <td>[Frog - Rubbing its spine with the wooden stic...</td>\n",
       "      <td></td>\n",
       "      <td>Wooden Percussion 3 Piece Set Frog, Cricket an...</td>\n",
       "      <td>[B00NP8GYVS, B00NP80XMO, B01MY48HK5, B00AZZ1AJ...</td>\n",
       "      <td></td>\n",
       "      <td>WADSUWAN SHOP</td>\n",
       "      <td>[Wood percussion, Small 3 inches, Creates orig...</td>\n",
       "      <td>[&gt;#1,622 in Musical Instruments (See Top 100 i...</td>\n",
       "      <td>[]</td>\n",
       "      <td>Musical Instruments</td>\n",
       "      <td></td>\n",
       "      <td>December 2, 2013</td>\n",
       "      <td>$0.91</td>\n",
       "      <td>0000098906</td>\n",
       "      <td>[https://images-na.ssl-images-amazon.com/image...</td>\n",
       "      <td>[https://images-na.ssl-images-amazon.com/image...</td>\n",
       "      <td>NaN</td>\n",
       "    </tr>\n",
       "    <tr>\n",
       "      <th>2</th>\n",
       "      <td>[Musical Instruments, Instrument Accessories, ...</td>\n",
       "      <td></td>\n",
       "      <td>[Vivaldi's famous set of four violin concertos...</td>\n",
       "      <td></td>\n",
       "      <td>Hal Leonard Vivaldi Four Seasons for Piano (Or...</td>\n",
       "      <td>[]</td>\n",
       "      <td></td>\n",
       "      <td>Hal Leonard</td>\n",
       "      <td>[., ., .]</td>\n",
       "      <td>[&gt;#330,653 in Musical Instruments (See Top 100...</td>\n",
       "      <td>[]</td>\n",
       "      <td>Musical Instruments</td>\n",
       "      <td></td>\n",
       "      <td>May 10, 2011</td>\n",
       "      <td>$62.93</td>\n",
       "      <td>0041291905</td>\n",
       "      <td>[https://images-na.ssl-images-amazon.com/image...</td>\n",
       "      <td>[https://images-na.ssl-images-amazon.com/image...</td>\n",
       "      <td>NaN</td>\n",
       "    </tr>\n",
       "  </tbody>\n",
       "</table>\n",
       "</div>"
      ],
      "text/plain": [
       "                                            category tech1  \\\n",
       "0  [Musical Instruments, Drums & Percussion, Hand...         \n",
       "1  [Musical Instruments, Drums & Percussion, Hand...         \n",
       "2  [Musical Instruments, Instrument Accessories, ...         \n",
       "\n",
       "                                         description fit  \\\n",
       "0  [Cricket Rubbing the spine with the wooden sti...       \n",
       "1  [Frog - Rubbing its spine with the wooden stic...       \n",
       "2  [Vivaldi's famous set of four violin concertos...       \n",
       "\n",
       "                                               title  \\\n",
       "0  Wooden Percussion 2 Piece Set of 3 Inch Cricke...   \n",
       "1  Wooden Percussion 3 Piece Set Frog, Cricket an...   \n",
       "2  Hal Leonard Vivaldi Four Seasons for Piano (Or...   \n",
       "\n",
       "                                            also_buy tech2          brand  \\\n",
       "0               [B00NP8GYVS, B00NP80XMO, B00NP8M098]        WADSUWAN SHOP   \n",
       "1  [B00NP8GYVS, B00NP80XMO, B01MY48HK5, B00AZZ1AJ...        WADSUWAN SHOP   \n",
       "2                                                 []          Hal Leonard   \n",
       "\n",
       "                                             feature  \\\n",
       "0  [Wood percussion, Owl whistle*, Includes woode...   \n",
       "1  [Wood percussion, Small 3 inches, Creates orig...   \n",
       "2                                          [., ., .]   \n",
       "\n",
       "                                                rank also_view  \\\n",
       "0  [>#141,729 in Musical Instruments (See Top 100...        []   \n",
       "1  [>#1,622 in Musical Instruments (See Top 100 i...        []   \n",
       "2  [>#330,653 in Musical Instruments (See Top 100...        []   \n",
       "\n",
       "              main_cat similar_item              date   price        asin  \\\n",
       "0  Musical Instruments               December 2, 2013          0000989983   \n",
       "1  Musical Instruments               December 2, 2013   $0.91  0000098906   \n",
       "2  Musical Instruments                   May 10, 2011  $62.93  0041291905   \n",
       "\n",
       "                                            imageURL  \\\n",
       "0  [https://images-na.ssl-images-amazon.com/image...   \n",
       "1  [https://images-na.ssl-images-amazon.com/image...   \n",
       "2  [https://images-na.ssl-images-amazon.com/image...   \n",
       "\n",
       "                                     imageURLHighRes details  \n",
       "0  [https://images-na.ssl-images-amazon.com/image...     NaN  \n",
       "1  [https://images-na.ssl-images-amazon.com/image...     NaN  \n",
       "2  [https://images-na.ssl-images-amazon.com/image...     NaN  "
      ]
     },
     "execution_count": 6,
     "metadata": {},
     "output_type": "execute_result"
    }
   ],
   "source": [
    "df2.head(3)"
   ]
  },
  {
   "cell_type": "code",
   "execution_count": 7,
   "metadata": {},
   "outputs": [],
   "source": [
    "df_meta = df2[['category', 'title', 'asin']]"
   ]
  },
  {
   "cell_type": "code",
   "execution_count": 8,
   "metadata": {},
   "outputs": [
    {
     "data": {
      "text/html": [
       "<div>\n",
       "<style scoped>\n",
       "    .dataframe tbody tr th:only-of-type {\n",
       "        vertical-align: middle;\n",
       "    }\n",
       "\n",
       "    .dataframe tbody tr th {\n",
       "        vertical-align: top;\n",
       "    }\n",
       "\n",
       "    .dataframe thead th {\n",
       "        text-align: right;\n",
       "    }\n",
       "</style>\n",
       "<table border=\"1\" class=\"dataframe\">\n",
       "  <thead>\n",
       "    <tr style=\"text-align: right;\">\n",
       "      <th></th>\n",
       "      <th>category</th>\n",
       "      <th>title</th>\n",
       "      <th>asin</th>\n",
       "    </tr>\n",
       "  </thead>\n",
       "  <tbody>\n",
       "    <tr>\n",
       "      <th>0</th>\n",
       "      <td>[Musical Instruments, Drums &amp; Percussion, Hand...</td>\n",
       "      <td>Wooden Percussion 2 Piece Set of 3 Inch Cricke...</td>\n",
       "      <td>0000989983</td>\n",
       "    </tr>\n",
       "    <tr>\n",
       "      <th>1</th>\n",
       "      <td>[Musical Instruments, Drums &amp; Percussion, Hand...</td>\n",
       "      <td>Wooden Percussion 3 Piece Set Frog, Cricket an...</td>\n",
       "      <td>0000098906</td>\n",
       "    </tr>\n",
       "    <tr>\n",
       "      <th>2</th>\n",
       "      <td>[Musical Instruments, Instrument Accessories, ...</td>\n",
       "      <td>Hal Leonard Vivaldi Four Seasons for Piano (Or...</td>\n",
       "      <td>0041291905</td>\n",
       "    </tr>\n",
       "    <tr>\n",
       "      <th>3</th>\n",
       "      <td>[]</td>\n",
       "      <td>The Turn of the Screw (vocal score)</td>\n",
       "      <td>0060015500</td>\n",
       "    </tr>\n",
       "    <tr>\n",
       "      <th>4</th>\n",
       "      <td>[]</td>\n",
       "      <td>Suite for Organ (including the Trumpet Volunta...</td>\n",
       "      <td>0193757710</td>\n",
       "    </tr>\n",
       "  </tbody>\n",
       "</table>\n",
       "</div>"
      ],
      "text/plain": [
       "                                            category  \\\n",
       "0  [Musical Instruments, Drums & Percussion, Hand...   \n",
       "1  [Musical Instruments, Drums & Percussion, Hand...   \n",
       "2  [Musical Instruments, Instrument Accessories, ...   \n",
       "3                                                 []   \n",
       "4                                                 []   \n",
       "\n",
       "                                               title        asin  \n",
       "0  Wooden Percussion 2 Piece Set of 3 Inch Cricke...  0000989983  \n",
       "1  Wooden Percussion 3 Piece Set Frog, Cricket an...  0000098906  \n",
       "2  Hal Leonard Vivaldi Four Seasons for Piano (Or...  0041291905  \n",
       "3                The Turn of the Screw (vocal score)  0060015500  \n",
       "4  Suite for Organ (including the Trumpet Volunta...  0193757710  "
      ]
     },
     "execution_count": 8,
     "metadata": {},
     "output_type": "execute_result"
    }
   ],
   "source": [
    "df_meta.head(5)"
   ]
  },
  {
   "cell_type": "code",
   "execution_count": 9,
   "metadata": {},
   "outputs": [],
   "source": [
    "res = df_reviews.merge(df_meta, on=[\"asin\"])"
   ]
  },
  {
   "cell_type": "code",
   "execution_count": 10,
   "metadata": {},
   "outputs": [
    {
     "data": {
      "text/html": [
       "<div>\n",
       "<style scoped>\n",
       "    .dataframe tbody tr th:only-of-type {\n",
       "        vertical-align: middle;\n",
       "    }\n",
       "\n",
       "    .dataframe tbody tr th {\n",
       "        vertical-align: top;\n",
       "    }\n",
       "\n",
       "    .dataframe thead th {\n",
       "        text-align: right;\n",
       "    }\n",
       "</style>\n",
       "<table border=\"1\" class=\"dataframe\">\n",
       "  <thead>\n",
       "    <tr style=\"text-align: right;\">\n",
       "      <th></th>\n",
       "      <th>reviewText</th>\n",
       "      <th>asin</th>\n",
       "      <th>category</th>\n",
       "      <th>title</th>\n",
       "    </tr>\n",
       "  </thead>\n",
       "  <tbody>\n",
       "    <tr>\n",
       "      <th>0</th>\n",
       "      <td>Crocheting for Dummies by Karen Manthey &amp; Susa...</td>\n",
       "      <td>0470536454</td>\n",
       "      <td>[Musical Instruments, Instrument Accessories, ...</td>\n",
       "      <td>Wiley Publishers Crocheting For Dummies Revised</td>\n",
       "    </tr>\n",
       "    <tr>\n",
       "      <th>1</th>\n",
       "      <td>Very helpful...</td>\n",
       "      <td>0470536454</td>\n",
       "      <td>[Musical Instruments, Instrument Accessories, ...</td>\n",
       "      <td>Wiley Publishers Crocheting For Dummies Revised</td>\n",
       "    </tr>\n",
       "    <tr>\n",
       "      <th>2</th>\n",
       "      <td>EASY TO UNDERSTAND AND A PROMPT SERVICE TOO</td>\n",
       "      <td>0470536454</td>\n",
       "      <td>[Musical Instruments, Instrument Accessories, ...</td>\n",
       "      <td>Wiley Publishers Crocheting For Dummies Revised</td>\n",
       "    </tr>\n",
       "    <tr>\n",
       "      <th>3</th>\n",
       "      <td>My girlfriend use quite often</td>\n",
       "      <td>0470536454</td>\n",
       "      <td>[Musical Instruments, Instrument Accessories, ...</td>\n",
       "      <td>Wiley Publishers Crocheting For Dummies Revised</td>\n",
       "    </tr>\n",
       "    <tr>\n",
       "      <th>4</th>\n",
       "      <td>Arrived as described. Very happy.</td>\n",
       "      <td>0470536454</td>\n",
       "      <td>[Musical Instruments, Instrument Accessories, ...</td>\n",
       "      <td>Wiley Publishers Crocheting For Dummies Revised</td>\n",
       "    </tr>\n",
       "  </tbody>\n",
       "</table>\n",
       "</div>"
      ],
      "text/plain": [
       "                                          reviewText        asin  \\\n",
       "0  Crocheting for Dummies by Karen Manthey & Susa...  0470536454   \n",
       "1                                    Very helpful...  0470536454   \n",
       "2        EASY TO UNDERSTAND AND A PROMPT SERVICE TOO  0470536454   \n",
       "3                      My girlfriend use quite often  0470536454   \n",
       "4                  Arrived as described. Very happy.  0470536454   \n",
       "\n",
       "                                            category  \\\n",
       "0  [Musical Instruments, Instrument Accessories, ...   \n",
       "1  [Musical Instruments, Instrument Accessories, ...   \n",
       "2  [Musical Instruments, Instrument Accessories, ...   \n",
       "3  [Musical Instruments, Instrument Accessories, ...   \n",
       "4  [Musical Instruments, Instrument Accessories, ...   \n",
       "\n",
       "                                             title  \n",
       "0  Wiley Publishers Crocheting For Dummies Revised  \n",
       "1  Wiley Publishers Crocheting For Dummies Revised  \n",
       "2  Wiley Publishers Crocheting For Dummies Revised  \n",
       "3  Wiley Publishers Crocheting For Dummies Revised  \n",
       "4  Wiley Publishers Crocheting For Dummies Revised  "
      ]
     },
     "execution_count": 10,
     "metadata": {},
     "output_type": "execute_result"
    }
   ],
   "source": [
    "res.head(5)"
   ]
  },
  {
   "cell_type": "code",
   "execution_count": 11,
   "metadata": {},
   "outputs": [
    {
     "data": {
      "text/plain": [
       "['Musical Instruments', 'Guitars', 'Electric Guitars', 'Solid Body']"
      ]
     },
     "execution_count": 11,
     "metadata": {},
     "output_type": "execute_result"
    }
   ],
   "source": [
    "res['category'][1731694]"
   ]
  },
  {
   "cell_type": "markdown",
   "metadata": {},
   "source": [
    "Оставляем в датафрейме только информацию о гитарах"
   ]
  },
  {
   "cell_type": "code",
   "execution_count": 12,
   "metadata": {},
   "outputs": [],
   "source": [
    "g = 'Guitars'\n",
    "guitars = res[res[\"category\"].apply(lambda x: g in x)]"
   ]
  },
  {
   "cell_type": "code",
   "execution_count": 13,
   "metadata": {},
   "outputs": [
    {
     "data": {
      "text/html": [
       "<div>\n",
       "<style scoped>\n",
       "    .dataframe tbody tr th:only-of-type {\n",
       "        vertical-align: middle;\n",
       "    }\n",
       "\n",
       "    .dataframe tbody tr th {\n",
       "        vertical-align: top;\n",
       "    }\n",
       "\n",
       "    .dataframe thead th {\n",
       "        text-align: right;\n",
       "    }\n",
       "</style>\n",
       "<table border=\"1\" class=\"dataframe\">\n",
       "  <thead>\n",
       "    <tr style=\"text-align: right;\">\n",
       "      <th></th>\n",
       "      <th>reviewText</th>\n",
       "      <th>asin</th>\n",
       "      <th>category</th>\n",
       "      <th>title</th>\n",
       "    </tr>\n",
       "  </thead>\n",
       "  <tbody>\n",
       "    <tr>\n",
       "      <th>1024</th>\n",
       "      <td>I got this on sale for $49.99 and fro that muc...</td>\n",
       "      <td>0739079883</td>\n",
       "      <td>[Musical Instruments, Guitars, Acoustic Guitar...</td>\n",
       "      <td>Alfred's Kid's Guitar Course, Complete Starter...</td>\n",
       "    </tr>\n",
       "    <tr>\n",
       "      <th>1025</th>\n",
       "      <td>This is a good starter package. It came with a...</td>\n",
       "      <td>0739079883</td>\n",
       "      <td>[Musical Instruments, Guitars, Acoustic Guitar...</td>\n",
       "      <td>Alfred's Kid's Guitar Course, Complete Starter...</td>\n",
       "    </tr>\n",
       "    <tr>\n",
       "      <th>1026</th>\n",
       "      <td>I ordered the Guitar for my Granddaughter for ...</td>\n",
       "      <td>0739079883</td>\n",
       "      <td>[Musical Instruments, Guitars, Acoustic Guitar...</td>\n",
       "      <td>Alfred's Kid's Guitar Course, Complete Starter...</td>\n",
       "    </tr>\n",
       "    <tr>\n",
       "      <th>1027</th>\n",
       "      <td>I bought this pack as a gift for a friend's ch...</td>\n",
       "      <td>0739079883</td>\n",
       "      <td>[Musical Instruments, Guitars, Acoustic Guitar...</td>\n",
       "      <td>Alfred's Kid's Guitar Course, Complete Starter...</td>\n",
       "    </tr>\n",
       "    <tr>\n",
       "      <th>1028</th>\n",
       "      <td>Got this for my 10yr old daughter.  She enjoys...</td>\n",
       "      <td>0739079883</td>\n",
       "      <td>[Musical Instruments, Guitars, Acoustic Guitar...</td>\n",
       "      <td>Alfred's Kid's Guitar Course, Complete Starter...</td>\n",
       "    </tr>\n",
       "  </tbody>\n",
       "</table>\n",
       "</div>"
      ],
      "text/plain": [
       "                                             reviewText        asin  \\\n",
       "1024  I got this on sale for $49.99 and fro that muc...  0739079883   \n",
       "1025  This is a good starter package. It came with a...  0739079883   \n",
       "1026  I ordered the Guitar for my Granddaughter for ...  0739079883   \n",
       "1027  I bought this pack as a gift for a friend's ch...  0739079883   \n",
       "1028  Got this for my 10yr old daughter.  She enjoys...  0739079883   \n",
       "\n",
       "                                               category  \\\n",
       "1024  [Musical Instruments, Guitars, Acoustic Guitar...   \n",
       "1025  [Musical Instruments, Guitars, Acoustic Guitar...   \n",
       "1026  [Musical Instruments, Guitars, Acoustic Guitar...   \n",
       "1027  [Musical Instruments, Guitars, Acoustic Guitar...   \n",
       "1028  [Musical Instruments, Guitars, Acoustic Guitar...   \n",
       "\n",
       "                                                  title  \n",
       "1024  Alfred's Kid's Guitar Course, Complete Starter...  \n",
       "1025  Alfred's Kid's Guitar Course, Complete Starter...  \n",
       "1026  Alfred's Kid's Guitar Course, Complete Starter...  \n",
       "1027  Alfred's Kid's Guitar Course, Complete Starter...  \n",
       "1028  Alfred's Kid's Guitar Course, Complete Starter...  "
      ]
     },
     "execution_count": 13,
     "metadata": {},
     "output_type": "execute_result"
    }
   ],
   "source": [
    "guitars.head(5)"
   ]
  },
  {
   "cell_type": "markdown",
   "metadata": {},
   "source": [
    "Для выделения ne из текстов отзывов можно попробовать следующие способы:\n",
    "\n",
    "1. Составить мини-словарь сущностей/дескрипторов, расширить с помощью слов из модели (например, word2vec). Мне кажется, что это нормальный способ, так как можно вручную задать употребления типа this pack, that item итд, которые не называют инструмент прямо, но обозначают его в отзыве. Из минусов - вряд ли здесь можно учесть все случаи, когда пользователь называет конкретную модель (кроме самых популярных) - этот способ буду реализовывать ниже. Можно дополнить словарь синонимами из wordnet.\n",
    "2. Можно попробовать выделить морфологические и орфографические шаблоны со списком основных существительных: например, берем слова guitar, device, set итд, предполагаем, что частыми морфологическими шаблонами будут ADJ + NOUN и проверяем биграммы из отзывов на соответствие этим шаблонам. Орфографические шаблоны: можно брать тот же список основных существительных и выделять би и триграммы, в которых другое/другие слова пишутся с большой буквы, с большой вероятностью, это будет название модели. Из плюсов - мы сможем выделить названия моделей товаров, которые вряд ли найдутся в предобученной модели или в синонимах wordnet. \n",
    "3. Использовать столбцы category и title из метаданных, считая все коллокации там упоминаниями товара, которые будем искать в отзывах. Плюс - готовые данные, которые с большой вероятностью встретятся в отзывах.\n",
    "\n",
    "В первых двух способах основные данные - тексты отзывов, метаданные были вспомогательными для очистки датасета. В третьем способе работаем с метаданными."
   ]
  },
  {
   "cell_type": "markdown",
   "metadata": {},
   "source": [
    "Попробуем найти близкие слова в предобученной модели"
   ]
  },
  {
   "cell_type": "code",
   "execution_count": 14,
   "metadata": {},
   "outputs": [],
   "source": [
    "import gensim.downloader"
   ]
  },
  {
   "cell_type": "code",
   "execution_count": 15,
   "metadata": {},
   "outputs": [],
   "source": [
    "glove_vectors = gensim.downloader.load('glove-twitter-25')"
   ]
  },
  {
   "cell_type": "code",
   "execution_count": 16,
   "metadata": {},
   "outputs": [
    {
     "data": {
      "text/plain": [
       "[('theme', 0.9055464863777161),\n",
       " ('cover', 0.902897834777832),\n",
       " ('bass', 0.9020538330078125),\n",
       " ('drum', 0.8947978615760803),\n",
       " ('drums', 0.8919881582260132),\n",
       " ('iron', 0.8911890983581543),\n",
       " ('shuffle', 0.8809096813201904),\n",
       " ('keys', 0.8803252577781677),\n",
       " ('mic', 0.8774563670158386),\n",
       " ('magic', 0.8769288659095764)]"
      ]
     },
     "execution_count": 16,
     "metadata": {},
     "output_type": "execute_result"
    }
   ],
   "source": [
    "glove_vectors.most_similar('guitar')"
   ]
  },
  {
   "cell_type": "code",
   "execution_count": 17,
   "metadata": {},
   "outputs": [
    {
     "data": {
      "text/plain": [
       "[('model', 0.8291915059089661),\n",
       " ('xl', 0.7993069291114807),\n",
       " ('limited', 0.7985807061195374),\n",
       " ('custom', 0.7905901074409485),\n",
       " ('dp', 0.7867296934127808),\n",
       " ('print', 0.7839182615280151),\n",
       " ('bib', 0.7831104397773743),\n",
       " ('pen', 0.7819660305976868),\n",
       " ('kit', 0.7776104807853699),\n",
       " ('slr', 0.7739841938018799)]"
      ]
     },
     "execution_count": 17,
     "metadata": {},
     "output_type": "execute_result"
    }
   ],
   "source": [
    "glove_vectors.most_similar('item')"
   ]
  },
  {
   "cell_type": "markdown",
   "metadata": {},
   "source": [
    "Можно попробовать вытащить синонимы из wordnet и дополнить ими словарь"
   ]
  },
  {
   "cell_type": "code",
   "execution_count": 18,
   "metadata": {},
   "outputs": [
    {
     "name": "stderr",
     "output_type": "stream",
     "text": [
      "C:\\ProgramData\\Anaconda3\\lib\\site-packages\\sklearn\\feature_extraction\\image.py:167: DeprecationWarning: `np.int` is a deprecated alias for the builtin `int`. To silence this warning, use `int` by itself. Doing this will not modify any behavior and is safe. When replacing `np.int`, you may wish to use e.g. `np.int64` or `np.int32` to specify the precision. If you wish to review your current use, check the release note link for additional information.\n",
      "Deprecated in NumPy 1.20; for more details and guidance: https://numpy.org/devdocs/release/1.20.0-notes.html#deprecations\n",
      "  dtype=np.int):\n",
      "C:\\ProgramData\\Anaconda3\\lib\\site-packages\\sklearn\\linear_model\\least_angle.py:30: DeprecationWarning: `np.float` is a deprecated alias for the builtin `float`. To silence this warning, use `float` by itself. Doing this will not modify any behavior and is safe. If you specifically wanted the numpy scalar type, use `np.float64` here.\n",
      "Deprecated in NumPy 1.20; for more details and guidance: https://numpy.org/devdocs/release/1.20.0-notes.html#deprecations\n",
      "  method='lar', copy_X=True, eps=np.finfo(np.float).eps,\n",
      "C:\\ProgramData\\Anaconda3\\lib\\site-packages\\sklearn\\linear_model\\least_angle.py:167: DeprecationWarning: `np.float` is a deprecated alias for the builtin `float`. To silence this warning, use `float` by itself. Doing this will not modify any behavior and is safe. If you specifically wanted the numpy scalar type, use `np.float64` here.\n",
      "Deprecated in NumPy 1.20; for more details and guidance: https://numpy.org/devdocs/release/1.20.0-notes.html#deprecations\n",
      "  method='lar', copy_X=True, eps=np.finfo(np.float).eps,\n",
      "C:\\ProgramData\\Anaconda3\\lib\\site-packages\\sklearn\\linear_model\\least_angle.py:284: DeprecationWarning: `np.float` is a deprecated alias for the builtin `float`. To silence this warning, use `float` by itself. Doing this will not modify any behavior and is safe. If you specifically wanted the numpy scalar type, use `np.float64` here.\n",
      "Deprecated in NumPy 1.20; for more details and guidance: https://numpy.org/devdocs/release/1.20.0-notes.html#deprecations\n",
      "  eps=np.finfo(np.float).eps, copy_Gram=True, verbose=0,\n",
      "C:\\ProgramData\\Anaconda3\\lib\\site-packages\\sklearn\\linear_model\\least_angle.py:862: DeprecationWarning: `np.float` is a deprecated alias for the builtin `float`. To silence this warning, use `float` by itself. Doing this will not modify any behavior and is safe. If you specifically wanted the numpy scalar type, use `np.float64` here.\n",
      "Deprecated in NumPy 1.20; for more details and guidance: https://numpy.org/devdocs/release/1.20.0-notes.html#deprecations\n",
      "  eps=np.finfo(np.float).eps, copy_X=True, fit_path=True,\n",
      "C:\\ProgramData\\Anaconda3\\lib\\site-packages\\sklearn\\linear_model\\least_angle.py:1101: DeprecationWarning: `np.float` is a deprecated alias for the builtin `float`. To silence this warning, use `float` by itself. Doing this will not modify any behavior and is safe. If you specifically wanted the numpy scalar type, use `np.float64` here.\n",
      "Deprecated in NumPy 1.20; for more details and guidance: https://numpy.org/devdocs/release/1.20.0-notes.html#deprecations\n",
      "  eps=np.finfo(np.float).eps, copy_X=True, fit_path=True,\n",
      "C:\\ProgramData\\Anaconda3\\lib\\site-packages\\sklearn\\linear_model\\least_angle.py:1127: DeprecationWarning: `np.float` is a deprecated alias for the builtin `float`. To silence this warning, use `float` by itself. Doing this will not modify any behavior and is safe. If you specifically wanted the numpy scalar type, use `np.float64` here.\n",
      "Deprecated in NumPy 1.20; for more details and guidance: https://numpy.org/devdocs/release/1.20.0-notes.html#deprecations\n",
      "  eps=np.finfo(np.float).eps, positive=False):\n",
      "C:\\ProgramData\\Anaconda3\\lib\\site-packages\\sklearn\\linear_model\\least_angle.py:1362: DeprecationWarning: `np.float` is a deprecated alias for the builtin `float`. To silence this warning, use `float` by itself. Doing this will not modify any behavior and is safe. If you specifically wanted the numpy scalar type, use `np.float64` here.\n",
      "Deprecated in NumPy 1.20; for more details and guidance: https://numpy.org/devdocs/release/1.20.0-notes.html#deprecations\n",
      "  max_n_alphas=1000, n_jobs=None, eps=np.finfo(np.float).eps,\n",
      "C:\\ProgramData\\Anaconda3\\lib\\site-packages\\sklearn\\linear_model\\least_angle.py:1602: DeprecationWarning: `np.float` is a deprecated alias for the builtin `float`. To silence this warning, use `float` by itself. Doing this will not modify any behavior and is safe. If you specifically wanted the numpy scalar type, use `np.float64` here.\n",
      "Deprecated in NumPy 1.20; for more details and guidance: https://numpy.org/devdocs/release/1.20.0-notes.html#deprecations\n",
      "  max_n_alphas=1000, n_jobs=None, eps=np.finfo(np.float).eps,\n",
      "C:\\ProgramData\\Anaconda3\\lib\\site-packages\\sklearn\\linear_model\\least_angle.py:1738: DeprecationWarning: `np.float` is a deprecated alias for the builtin `float`. To silence this warning, use `float` by itself. Doing this will not modify any behavior and is safe. If you specifically wanted the numpy scalar type, use `np.float64` here.\n",
      "Deprecated in NumPy 1.20; for more details and guidance: https://numpy.org/devdocs/release/1.20.0-notes.html#deprecations\n",
      "  eps=np.finfo(np.float).eps, copy_X=True, positive=False):\n"
     ]
    },
    {
     "data": {
      "text/plain": [
       "['guitar']"
      ]
     },
     "execution_count": 18,
     "metadata": {},
     "output_type": "execute_result"
    }
   ],
   "source": [
    "from nltk.corpus import wordnet\n",
    "wordnet.synset('guitar.n.01').lemma_names()"
   ]
  },
  {
   "cell_type": "code",
   "execution_count": 19,
   "metadata": {},
   "outputs": [
    {
     "data": {
      "text/plain": [
       "['item', 'point']"
      ]
     },
     "execution_count": 19,
     "metadata": {},
     "output_type": "execute_result"
    }
   ],
   "source": [
    "wordnet.synset('item.n.01').lemma_names()"
   ]
  },
  {
   "cell_type": "markdown",
   "metadata": {},
   "source": [
    "Составляем словарь"
   ]
  },
  {
   "cell_type": "code",
   "execution_count": 21,
   "metadata": {},
   "outputs": [],
   "source": [
    "vocab = ['guitar', 'instrument', 'set', 'model', 'pack', 'item']"
   ]
  },
  {
   "cell_type": "code",
   "execution_count": 22,
   "metadata": {},
   "outputs": [],
   "source": [
    "reviews = guitars['reviewText'].tolist()"
   ]
  },
  {
   "cell_type": "code",
   "execution_count": 52,
   "metadata": {},
   "outputs": [],
   "source": [
    "str_reviews = []\n",
    "for r in reviews:\n",
    "    r = str(r)\n",
    "    str_reviews.append(r)"
   ]
  },
  {
   "cell_type": "code",
   "execution_count": 25,
   "metadata": {},
   "outputs": [],
   "source": [
    "list_of_reviews = []\n",
    "for i in reviews:\n",
    "    i = str(i)\n",
    "    i = i.split(' ')\n",
    "    list_of_reviews.extend(i)"
   ]
  },
  {
   "cell_type": "code",
   "execution_count": 28,
   "metadata": {},
   "outputs": [],
   "source": [
    "reduced_list_of_reviews = list_of_reviews[0:1000]"
   ]
  },
  {
   "cell_type": "markdown",
   "metadata": {},
   "source": [
    "Находим коллокации"
   ]
  },
  {
   "cell_type": "code",
   "execution_count": 37,
   "metadata": {},
   "outputs": [],
   "source": [
    "left_bigrams = []\n",
    "right_bigrams = []\n",
    "for idx, item in enumerate(list_of_reviews):\n",
    "    left_collocation = []\n",
    "    right_collocation = []\n",
    "    for word in vocab:\n",
    "        if item == word:\n",
    "            if list_of_reviews[idx - 1] == 'this' or list_of_reviews[idx - 1] == 'that' or list_of_reviews[idx - 1] == 'the' or list_of_reviews[idx - 1] == 'The':\n",
    "                left_collocation.append(list_of_reviews[idx - 2])\n",
    "                left_collocation.append(list_of_reviews[idx - 1])\n",
    "                left_collocation.append(list_of_reviews[idx])\n",
    "                right_collocation.append(list_of_reviews[idx - 1])\n",
    "                right_collocation.append(list_of_reviews[idx])\n",
    "                right_collocation.append(list_of_reviews[idx + 1])\n",
    "            else:\n",
    "                left_collocation.append(list_of_reviews[idx - 1])\n",
    "                left_collocation.append(list_of_reviews[idx])\n",
    "                right_collocation.append(list_of_reviews[idx])\n",
    "                right_collocation.append(list_of_reviews[idx + 1])\n",
    "    left_bigrams.append(left_collocation)\n",
    "    right_bigrams.append(right_collocation)"
   ]
  },
  {
   "cell_type": "code",
   "execution_count": 39,
   "metadata": {},
   "outputs": [],
   "source": [
    "left_bigrams_clean = [x for x in left_bigrams if x != []] #убираем пустые списки\n",
    "right_bigrams_clean = [x for x in right_bigrams if x != []]"
   ]
  },
  {
   "cell_type": "markdown",
   "metadata": {},
   "source": [
    "Делим все коллокации на биграммы и триграммы"
   ]
  },
  {
   "cell_type": "code",
   "execution_count": 63,
   "metadata": {},
   "outputs": [],
   "source": [
    "true_bigrams = []\n",
    "true_trigrams = []\n",
    "\n",
    "for el in left_bigrams_clean:\n",
    "    if len(el) == 2:\n",
    "        true_bigrams.append(el)\n",
    "    elif len(el) == 3:\n",
    "        true_trigrams.append(el)\n",
    "\n",
    "for el in right_bigrams_clean:\n",
    "    if len(el) == 2:\n",
    "        true_bigrams.append(el)\n",
    "    elif len(el) == 3:\n",
    "        true_trigrams.append(el)"
   ]
  },
  {
   "cell_type": "code",
   "execution_count": 66,
   "metadata": {},
   "outputs": [
    {
     "data": {
      "text/plain": [
       "[['fancier', 'guitar'],\n",
       " ['starter', 'set'],\n",
       " ['Good', 'guitar'],\n",
       " ['This', 'guitar'],\n",
       " ['level', 'guitar']]"
      ]
     },
     "execution_count": 66,
     "metadata": {},
     "output_type": "execute_result"
    }
   ],
   "source": [
    "true_bigrams[2:7]"
   ]
  },
  {
   "cell_type": "code",
   "execution_count": 67,
   "metadata": {},
   "outputs": [
    {
     "data": {
      "text/plain": [
       "[['bought', 'this', 'pack'],\n",
       " ['on', 'the', 'instrument'],\n",
       " ['review.', 'The', 'guitar'],\n",
       " ['tune', 'the', 'guitar'],\n",
       " ['bought', 'this', 'guitar']]"
      ]
     },
     "execution_count": 67,
     "metadata": {},
     "output_type": "execute_result"
    }
   ],
   "source": [
    "true_trigrams[2:7]"
   ]
  },
  {
   "cell_type": "markdown",
   "metadata": {},
   "source": [
    "Ранжируем биграммы и триграммы"
   ]
  },
  {
   "cell_type": "code",
   "execution_count": 76,
   "metadata": {},
   "outputs": [],
   "source": [
    "bigram_measures = nltk.collocations.BigramAssocMeasures()\n",
    "trigram_measures = nltk.collocations.TrigramAssocMeasures()\n",
    "finder2 = BigramCollocationFinder.from_documents(true_bigrams)\n",
    "finder2.apply_freq_filter(10)"
   ]
  },
  {
   "cell_type": "code",
   "execution_count": 86,
   "metadata": {},
   "outputs": [
    {
     "data": {
      "text/plain": [
       "[(('set', 'up'), 13893.085021373972),\n",
       " (('guitar', 'set'), 13870.753723322023),\n",
       " (('guitar', 'for'), 9815.258566698134),\n",
       " (('for', 'guitar'), 8101.241089798707),\n",
       " (('This', 'guitar'), 7851.691422961571),\n",
       " (('guitar', 'a'), 6902.001492511218),\n",
       " (('a', 'guitar'), 6497.1633837403515),\n",
       " (('guitar', 'This'), 5848.929620348293),\n",
       " (('set', 'of'), 5662.405683755949),\n",
       " (('is', 'guitar'), 5254.070152996523)]"
      ]
     },
     "execution_count": 86,
     "metadata": {},
     "output_type": "execute_result"
    }
   ],
   "source": [
    "finder2.score_ngrams(bigram_measures.likelihood_ratio)[:10]"
   ]
  },
  {
   "cell_type": "code",
   "execution_count": 87,
   "metadata": {},
   "outputs": [
    {
     "data": {
      "text/plain": [
       "[(('battery', 'pack'), 8.171783988558568),\n",
       " (('combo', 'pack'), 7.01424271157209),\n",
       " (('floor', 'model'), 6.1860266757339275),\n",
       " (('model', 'number'), 6.17537943153442),\n",
       " (('newer', 'model'), 6.17537943153442),\n",
       " (('older', 'model'), 6.03716328981945),\n",
       " (('sunburst', 'model'), 5.968928554066995),\n",
       " (('base', 'model'), 5.9148518813112005),\n",
       " (('signature', 'model'), 5.490881257262352),\n",
       " (('musical', 'instrument'), 5.3425691077365975)]"
      ]
     },
     "execution_count": 87,
     "metadata": {},
     "output_type": "execute_result"
    }
   ],
   "source": [
    "finder2.score_ngrams(bigram_measures.pmi)[:10]"
   ]
  },
  {
   "cell_type": "code",
   "execution_count": 88,
   "metadata": {},
   "outputs": [
    {
     "data": {
      "text/plain": [
       "[(('set', 'up'), 0.2767338571916638),\n",
       " (('set', 'of'), 0.17124339075558587),\n",
       " (('an', 'instrument'), 0.13045779306694893),\n",
       " (('guitar', 'for'), 0.1285451553576614),\n",
       " (('a', 'guitar'), 0.10551093879811686),\n",
       " (('This', 'guitar'), 0.09577246623987608),\n",
       " (('a', 'set'), 0.07806037138079733),\n",
       " (('guitar', 'is'), 0.07724509119904316),\n",
       " (('instrument', 'that'), 0.06703470031545741),\n",
       " (('guitar', 'and'), 0.0645327783558793)]"
      ]
     },
     "execution_count": 88,
     "metadata": {},
     "output_type": "execute_result"
    }
   ],
   "source": [
    "finder2.score_ngrams(bigram_measures.dice)[:10]"
   ]
  },
  {
   "cell_type": "code",
   "execution_count": 78,
   "metadata": {},
   "outputs": [],
   "source": [
    "finder3 = TrigramCollocationFinder.from_documents(true_trigrams)\n",
    "finder3.apply_freq_filter(10)"
   ]
  },
  {
   "cell_type": "code",
   "execution_count": 89,
   "metadata": {},
   "outputs": [
    {
     "data": {
      "text/plain": [
       "[(('this', 'guitar', 'the'), 180218.32152956477),\n",
       " (('the', 'guitar', 'this'), 163885.9133423194),\n",
       " (('this', 'guitar', 'is'), 155419.73601409938),\n",
       " (('the', 'the', 'guitar'), 153200.74328485475),\n",
       " (('guitar', 'The', 'guitar'), 151024.30932892964),\n",
       " (('the', 'guitar', 'the'), 150318.68355224),\n",
       " (('this', 'guitar', 'for'), 145839.49066218318),\n",
       " (('bought', 'this', 'guitar'), 145724.68572749523),\n",
       " (('of', 'this', 'guitar'), 145611.15112874412),\n",
       " (('is', 'this', 'guitar'), 141979.92789457444)]"
      ]
     },
     "execution_count": 89,
     "metadata": {},
     "output_type": "execute_result"
    }
   ],
   "source": [
    "finder3.score_ngrams(trigram_measures.likelihood_ratio)[:10]"
   ]
  },
  {
   "cell_type": "code",
   "execution_count": 90,
   "metadata": {},
   "outputs": [
    {
     "data": {
      "text/plain": [
       "[(('The', 'set', 'neck'), 9.694537045239795),\n",
       " (('The', 'set', 'up'), 8.961052019808548),\n",
       " (('the', 'set', 'up.'), 8.950876993564979),\n",
       " (('the', 'set', 'up'), 8.46033009473593),\n",
       " (('the', 'set', 'neck'), 8.07833790274724),\n",
       " (('return', 'the', 'item'), 7.919603704166377),\n",
       " (('this', 'set', 'up.'), 7.824472212661188),\n",
       " (('returned', 'the', 'item'), 7.206536377697539),\n",
       " (('The', 'item', 'arrived'), 7.005800166170069),\n",
       " (('in', 'the', 'pack'), 6.915039685093305)]"
      ]
     },
     "execution_count": 90,
     "metadata": {},
     "output_type": "execute_result"
    }
   ],
   "source": [
    "finder3.score_ngrams(trigram_measures.pmi)[:10]"
   ]
  },
  {
   "cell_type": "code",
   "execution_count": 91,
   "metadata": {},
   "outputs": [
    {
     "data": {
      "text/plain": [
       "[(('this', 'guitar', 'is'), 50.23507495494184),\n",
       " (('this', 'guitar', 'for'), 48.641565163970526),\n",
       " (('of', 'the', 'guitar'), 42.73335609103468),\n",
       " (('bought', 'this', 'guitar'), 40.317948591692904),\n",
       " (('the', 'guitar', 'is'), 38.79273773401875),\n",
       " (('The', 'guitar', 'is'), 35.318880516112856),\n",
       " (('', 'The', 'guitar'), 33.65597294150676),\n",
       " (('the', 'guitar', 'and'), 30.22246756091399),\n",
       " (('recommend', 'this', 'guitar'), 29.695189984111703),\n",
       " (('this', 'guitar', 'and'), 29.64262734186651)]"
      ]
     },
     "execution_count": 91,
     "metadata": {},
     "output_type": "execute_result"
    }
   ],
   "source": [
    "finder3.score_ngrams(trigram_measures.student_t)[:10]"
   ]
  },
  {
   "cell_type": "markdown",
   "metadata": {},
   "source": [
    "Для биграмм наиболее адекватными выглядят результаты с метрикой pmi, для триграмм - в принципе во всех трех есть разумные вещи типа 'recommend', 'this', 'guitar' или 'returned', 'the', 'item'. Вообще триграммы кажутся более подходящими для отчета, так как в них помещается не только название товара, но и примерное отношение пользователей"
   ]
  },
  {
   "cell_type": "code",
   "execution_count": null,
   "metadata": {},
   "outputs": [],
   "source": []
  }
 ],
 "metadata": {
  "kernelspec": {
   "display_name": "Python 3",
   "language": "python",
   "name": "python3"
  },
  "language_info": {
   "codemirror_mode": {
    "name": "ipython",
    "version": 3
   },
   "file_extension": ".py",
   "mimetype": "text/x-python",
   "name": "python",
   "nbconvert_exporter": "python",
   "pygments_lexer": "ipython3",
   "version": "3.7.3"
  }
 },
 "nbformat": 4,
 "nbformat_minor": 2
}
