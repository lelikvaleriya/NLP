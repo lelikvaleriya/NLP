{
 "cells": [
  {
   "cell_type": "markdown",
   "metadata": {},
   "source": [
    "# HW1"
   ]
  },
  {
   "cell_type": "markdown",
   "metadata": {},
   "source": [
    "1. Источник текстов корпуса - cyberleninka. Тексты - научные статьи. В них перед основным текстом авторы указывают список ключевых слов, если слова не указаны в тексте статьи - их можно найти в описании на сайте."
   ]
  },
  {
   "cell_type": "markdown",
   "metadata": {},
   "source": [
    "Ключевые слова из описания статей:\n",
    "\n",
    "1. сакральный ландшафт, святилище, дерево, обряд, культовая и магическая практика\n",
    "2. орган, оркестр, камерный ансамбль, взаимосвязь, композиторское творчество\n",
    "3. музыка, программа, инструмент, сюжет, идиофоны, аэрофоны, хордофоны, имитация, ритм, темп, динамика, штрихи, слушатель, регистр, рассказ\n",
    "4. анализ, музыкальное сопровождение, фитнес, типология использования\n",
    "\n",
    "Выделенные самостоятельно:\n",
    "\n",
    "1. удмурты, ритуальная церемония, обрядовое действо, бог, священное дерево, обряд, святилище, дерево\n",
    "2. А.Ф. Гедике, Гедике-органист, орган, пьеса, органная сфера, клавирное произведение, полифония\n",
    "3. программная музыка, инструментальная музыка, наигрыши, звукоподражательность, азербайджанская музыка\n",
    "4. фитнес, музыкальное сопровождение, телесное ощущение, двигательное действие, звуколидер, психолидер\n",
    "\n",
    "В первом тексте есть несколько пересечений между двумя разметками, в выделенных словах из описания есть 2 специфичных словосочетания, которые не встречаются дословно в тексте, но отражают его суть.\n",
    "Во втором тексте между разметками практически нет пересечений, итоговый список будет представлять собой объединение списков\n",
    "В третьем тексте ключевые слова из описания, по моему мнению, не вполне отражают специфику статьи, так как могут относиться практически к любой музыкальной статье, поэтому буду опираться в основном на свой стандарт\n",
    "В четвертом тексте есть пересечения, итоговый список - пересечение и объединение ключевых слова\n",
    "\n",
    "Золотой стандарт:\n",
    "\n",
    "1. святилище, дерево, священное дерево, обряд, удмурты, ландшафт\n",
    "2. Гедике, орган, органная сфера, оркестр, клавирное произведение, композиторское творчество, пьеса\n",
    "3. программная музыка, инструментальная музыка, наигрыши, звукоподражательность, азербайджанская музыка, рассказ\n",
    "4. фитнес, музыкальное сопровождение, телесное ощущение, двигательное действие, анализ"
   ]
  },
  {
   "cell_type": "code",
   "execution_count": 1,
   "metadata": {},
   "outputs": [],
   "source": [
    "from pymorphy2 import MorphAnalyzer\n",
    "from pymorphy2.tokenizers import simple_word_tokenize"
   ]
  },
  {
   "cell_type": "code",
   "execution_count": 111,
   "metadata": {},
   "outputs": [],
   "source": [
    "# Лемматизация текстов\n",
    "m = MorphAnalyzer()\n",
    "def normalize_text(text):\n",
    "    lemmas = []\n",
    "    for t in simple_word_tokenize(text):\n",
    "        lemmas.append(\n",
    "            m.parse(t)[0].normal_form\n",
    "        )\n",
    "    return ' '.join(lemmas)"
   ]
  },
  {
   "cell_type": "code",
   "execution_count": 10,
   "metadata": {},
   "outputs": [],
   "source": [
    "with open(r\"C:\\Users\\Лера\\keywords_corpus\\1.txt\", encoding=\"utf-8\") as file:\n",
    "    f1 = file.read()"
   ]
  },
  {
   "cell_type": "code",
   "execution_count": 12,
   "metadata": {},
   "outputs": [],
   "source": [
    "with open(r\"C:\\Users\\Лера\\keywords_corpus\\2.txt\", encoding=\"utf-8\") as file:\n",
    "    f2 = file.read()"
   ]
  },
  {
   "cell_type": "code",
   "execution_count": 13,
   "metadata": {},
   "outputs": [],
   "source": [
    "with open(r\"C:\\Users\\Лера\\keywords_corpus\\3.txt\", encoding=\"utf-8\") as file:\n",
    "    f3 = file.read()"
   ]
  },
  {
   "cell_type": "code",
   "execution_count": 14,
   "metadata": {},
   "outputs": [],
   "source": [
    "with open(r\"C:\\Users\\Лера\\keywords_corpus\\4.txt\", encoding=\"utf-8\") as file:\n",
    "    f4 = file.read()"
   ]
  },
  {
   "cell_type": "code",
   "execution_count": 42,
   "metadata": {},
   "outputs": [],
   "source": [
    "t1 = normalize_text(f1)\n",
    "t2 = normalize_text(f2)\n",
    "t3 = normalize_text(f3)\n",
    "t4 = normalize_text(f4)"
   ]
  },
  {
   "cell_type": "markdown",
   "metadata": {},
   "source": [
    "RAKE"
   ]
  },
  {
   "cell_type": "code",
   "execution_count": 17,
   "metadata": {},
   "outputs": [
    {
     "name": "stdout",
     "output_type": "stream",
     "text": [
      "Collecting python-rake\n",
      "  Downloading https://files.pythonhosted.org/packages/82/ec/7bd2a30264f0ec38a8a8f857fc4e6c73402c623fff3b9061fe4e790ad5e7/python_rake-1.5.0-py3-none-any.whl\n",
      "Installing collected packages: python-rake\n",
      "Successfully installed python-rake-1.5.0\n"
     ]
    }
   ],
   "source": [
    "!pip install python-rake"
   ]
  },
  {
   "cell_type": "code",
   "execution_count": 19,
   "metadata": {},
   "outputs": [
    {
     "name": "stderr",
     "output_type": "stream",
     "text": [
      "[nltk_data] Downloading package stopwords to C:\\nltk_data...\n",
      "[nltk_data]   Unzipping corpora\\stopwords.zip.\n"
     ]
    }
   ],
   "source": [
    "# импорты\n",
    "import RAKE\n",
    "import nltk\n",
    "nltk.download('stopwords')\n",
    "from nltk.corpus import stopwords"
   ]
  },
  {
   "cell_type": "code",
   "execution_count": 20,
   "metadata": {},
   "outputs": [],
   "source": [
    "stop = stopwords.words('russian')"
   ]
  },
  {
   "cell_type": "code",
   "execution_count": 21,
   "metadata": {},
   "outputs": [],
   "source": [
    "rake = RAKE.Rake(stop)"
   ]
  },
  {
   "cell_type": "code",
   "execution_count": 104,
   "metadata": {},
   "outputs": [],
   "source": [
    "list_1 = rake.run(t1, maxWords=2, minFrequency=2)[:20]"
   ]
  },
  {
   "cell_type": "code",
   "execution_count": 105,
   "metadata": {},
   "outputs": [
    {
     "data": {
      "text/plain": [
       "[('народный поверье', 4.333333333333334),\n",
       " ('удмуртский мифология', 4.0),\n",
       " ('нижний юраша', 4.0),\n",
       " ('потусторонний мир', 4.0),\n",
       " ('живой существо', 4.0),\n",
       " ('наименование божество', 3.8),\n",
       " ('дохристианский святилище', 3.75),\n",
       " ('петров день', 3.75),\n",
       " ('раздвоить вершина', 3.75),\n",
       " ('родовой святилище', 3.75),\n",
       " ('родительский дом', 3.75),\n",
       " ('хозяин леса', 3.533333333333333),\n",
       " ('чёрный леса', 3.533333333333333),\n",
       " ('отдельный дерево', 3.466666666666667),\n",
       " ('мировой дерево', 3.466666666666667),\n",
       " ('посвятить луда', 3.4),\n",
       " ('возле берёза', 3.3529411764705883),\n",
       " ('помимо берёза', 3.3529411764705883),\n",
       " ('платок остаться', 3.25),\n",
       " ('моление', 1.8)]"
      ]
     },
     "execution_count": 105,
     "metadata": {},
     "output_type": "execute_result"
    }
   ],
   "source": [
    "list_1"
   ]
  },
  {
   "cell_type": "code",
   "execution_count": 106,
   "metadata": {},
   "outputs": [
    {
     "data": {
      "text/plain": [
       "[('камерно-инструментальный сочинение', 9.0),\n",
       " ('мир наука', 4.0),\n",
       " ('органный сфера', 3.909090909090909),\n",
       " ('творчество', 1.5),\n",
       " ('симфонический', 1.4),\n",
       " ('орган', 1.4),\n",
       " ('плата', 1.3333333333333333),\n",
       " ('обработка', 1.3333333333333333),\n",
       " ('оркестр', 1.3333333333333333),\n",
       " ('педагогический', 1.3333333333333333),\n",
       " ('аналогия', 1.3333333333333333),\n",
       " ('гедик', 1.2962962962962963),\n",
       " ('чайковский', 1.25),\n",
       " ('композитор', 1.2),\n",
       " ('год', 1.2),\n",
       " ('1922 год', 1.2),\n",
       " ('бах', 1.1428571428571428),\n",
       " ('ф', 1.0285714285714285),\n",
       " ('культура', 1.0),\n",
       " ('образование', 1.0)]"
      ]
     },
     "execution_count": 106,
     "metadata": {},
     "output_type": "execute_result"
    }
   ],
   "source": [
    "list_2 = rake.run(t2, maxWords=2, minFrequency=2)[:20]\n",
    "list_2"
   ]
  },
  {
   "cell_type": "code",
   "execution_count": 107,
   "metadata": {},
   "outputs": [
    {
     "data": {
      "text/plain": [
       "[('композиторский творчество', 4.0),\n",
       " ('сеять день', 4.0),\n",
       " ('импровизационный характер', 4.0),\n",
       " ('репертуар зурнач', 4.0),\n",
       " ('способ восприятие', 4.0),\n",
       " ('движение поезд', 4.0),\n",
       " ('зафиксировать ладками', 4.0),\n",
       " ('исполнительский штрих', 4.0),\n",
       " ('среднее уровень', 4.0),\n",
       " ('речь идти', 4.0),\n",
       " ('половник остаться', 4.0),\n",
       " ('звукоряд инструмент', 3.8181818181818183),\n",
       " ('программный мелодия', 3.666666666666667),\n",
       " ('пастушеский мелодия', 3.666666666666667),\n",
       " ('повторить ещё', 3.666666666666667),\n",
       " ('самый главный', 3.666666666666667),\n",
       " ('дядя али', 3.666666666666667),\n",
       " ('ай люли', 3.6),\n",
       " ('музыкальный инструмент', 3.5324675324675323),\n",
       " ('пастушеский музыка', 3.428571428571429)]"
      ]
     },
     "execution_count": 107,
     "metadata": {},
     "output_type": "execute_result"
    }
   ],
   "source": [
    "list_3 = rake.run(t3, maxWords=2, minFrequency=2)[:20]\n",
    "list_3"
   ]
  },
  {
   "cell_type": "code",
   "execution_count": 108,
   "metadata": {},
   "outputs": [
    {
     "data": {
      "text/plain": [
       "[('наш взгляд', 4.0),\n",
       " ('приоритетный задача', 4.0),\n",
       " ('внутренний душевный', 4.0),\n",
       " ('телесный ощущение', 4.0),\n",
       " ('монотонный работа', 4.0),\n",
       " ('характерный основа', 3.75),\n",
       " ('занятие фитнес', 3.7142857142857144),\n",
       " ('эстетический целесообразность', 3.666666666666667),\n",
       " ('конвенция', 1.75),\n",
       " ('занятие', 1.7142857142857142),\n",
       " ('фон', 1.6),\n",
       " ('очередь', 1.3333333333333333),\n",
       " ('выделить', 1.0),\n",
       " ('определять', 1.0),\n",
       " ('звуколидер', 1.0),\n",
       " ('психолидер', 1.0),\n",
       " ('соответствие', 1.0),\n",
       " ('рис', 1.0),\n",
       " ('образ', 1.0),\n",
       " ('образный', 1.0)]"
      ]
     },
     "execution_count": 108,
     "metadata": {},
     "output_type": "execute_result"
    }
   ],
   "source": [
    "list_4 = rake.run(t4, maxWords=2, minFrequency=2)[:20]\n",
    "list_4"
   ]
  },
  {
   "cell_type": "markdown",
   "metadata": {},
   "source": [
    "TextRank"
   ]
  },
  {
   "cell_type": "code",
   "execution_count": 41,
   "metadata": {},
   "outputs": [
    {
     "name": "stdout",
     "output_type": "stream",
     "text": [
      "Collecting summa\n",
      "  Downloading https://files.pythonhosted.org/packages/45/3b/1c7dc435d05aef474c4137328400f1e11787b9bffab1f87a3f160c1fef54/summa-1.2.0.tar.gz (54kB)\n",
      "Requirement already satisfied: scipy>=0.19 in c:\\programdata\\anaconda3\\lib\\site-packages (from summa) (1.2.1)\n",
      "Building wheels for collected packages: summa\n",
      "  Building wheel for summa (setup.py): started\n",
      "  Building wheel for summa (setup.py): finished with status 'done'\n",
      "  Stored in directory: C:\\Users\\D9AB~1\\AppData\\Local\\pip\\Cache\\wheels\\6a\\09\\68\\e2f2861c01d86407c3fa5220826ed7eed2abaa56b001be5970\n",
      "Successfully built summa\n",
      "Installing collected packages: summa\n",
      "Successfully installed summa-1.2.0\n"
     ]
    }
   ],
   "source": [
    "!pip install summa"
   ]
  },
  {
   "cell_type": "code",
   "execution_count": 43,
   "metadata": {},
   "outputs": [],
   "source": [
    "from summa import keywords"
   ]
  },
  {
   "cell_type": "code",
   "execution_count": 46,
   "metadata": {},
   "outputs": [
    {
     "data": {
      "text/plain": [
       "[('отдельный дерево', 0.23882610546507885),\n",
       " ('леса', 0.16716435569811472),\n",
       " ('лес', 0.16716435569811472),\n",
       " ('который', 0.15926512264671877),\n",
       " ('место', 0.15118452756870085),\n",
       " ('берёза', 0.14323208673029664),\n",
       " ('удмурт', 0.11787552759440652),\n",
       " ('удмуртия', 0.11787552759440652),\n",
       " ('являться', 0.11623607742356383),\n",
       " ('это', 0.10533949552099602),\n",
       " ('лесом участок', 0.10435665561858712),\n",
       " ('человек лесной', 0.09805209181442143),\n",
       " ('мочь', 0.09752627160399763),\n",
       " ('особый', 0.09578631601891101),\n",
       " ('иметься', 0.09122755837589053),\n",
       " ('мир', 0.08213783328245942),\n",
       " ('святилище', 0.08187748819010322),\n",
       " ('часть', 0.0806637927860389),\n",
       " ('часто', 0.0806637927860389),\n",
       " ('совершаться моление', 0.07898417400720177)]"
      ]
     },
     "execution_count": 46,
     "metadata": {},
     "output_type": "execute_result"
    }
   ],
   "source": [
    "summa_1 = keywords.keywords(t1, language='russian', additional_stopwords=stop, scores=True)[:20]\n",
    "summa_1"
   ]
  },
  {
   "cell_type": "code",
   "execution_count": 48,
   "metadata": {},
   "outputs": [
    {
     "data": {
      "text/plain": [
       "[('гедик', 0.3593439495115109),\n",
       " ('гeдикe значительно', 0.20046999418586772),\n",
       " ('гедике являться', 0.19905721509057925),\n",
       " ('особенность сфера органный', 0.19525874572607924),\n",
       " ('орган московский консерватория', 0.1709400140880272),\n",
       " ('творческий деятельность', 0.15175741850272734),\n",
       " ('симфонический', 0.14662336173999552),\n",
       " ('год', 0.1222239635069108),\n",
       " ('ф', 0.11724384880667083),\n",
       " ('пьеса', 0.11598660782988221),\n",
       " ('пьесах', 0.11598660782988221),\n",
       " ('композитор', 0.11559857705259041),\n",
       " ('органист', 0.11370935527025325),\n",
       " ('органиста', 0.11370935527025325),\n",
       " ('творчество', 0.11260609541021548),\n",
       " ('инструмент', 0.1125401778150739),\n",
       " ('инструментов', 0.1125401778150739),\n",
       " ('приём', 0.11037876592043365),\n",
       " ('принцип', 0.10239545643070679),\n",
       " ('симфони', 0.09595024138187337)]"
      ]
     },
     "execution_count": 48,
     "metadata": {},
     "output_type": "execute_result"
    }
   ],
   "source": [
    "summa_2 = keywords.keywords(t2, language='russian', additional_stopwords=stop, scores=True)[:20]\n",
    "summa_2"
   ]
  },
  {
   "cell_type": "code",
   "execution_count": 49,
   "metadata": {},
   "outputs": [
    {
     "data": {
      "text/plain": [
       "[('программность', 0.25581470526454936),\n",
       " ('программный музыка', 0.2529762144534816),\n",
       " ('мелодия', 0.22936776058848726),\n",
       " ('инструмент', 0.1883528686177797),\n",
       " ('музыкальный', 0.16772849143104346),\n",
       " ('свой', 0.15089804411538565),\n",
       " ('пастух', 0.14314527783285144),\n",
       " ('пьеса', 0.1362891467499645),\n",
       " ('рассказ', 0.13000547020766087),\n",
       " ('являться', 0.11799967538821268),\n",
       " ('это', 0.11723534540791397),\n",
       " ('звук', 0.11710715071236084),\n",
       " ('инструментальный', 0.10878693343818144),\n",
       " ('играть', 0.10662215879314056),\n",
       " ('народный', 0.10657618463530132),\n",
       " ('народность', 0.10657618463530132),\n",
       " ('азербайджанский', 0.10509726486102658),\n",
       " ('мочь', 0.10370510773930225),\n",
       " ('звукоизобразительность', 0.0955487084522262),\n",
       " ('явление', 0.09244521179081253)]"
      ]
     },
     "execution_count": 49,
     "metadata": {},
     "output_type": "execute_result"
    }
   ],
   "source": [
    "summa_3 = keywords.keywords(t3, language='russian', additional_stopwords=stop, scores=True)[:20]\n",
    "summa_3"
   ]
  },
  {
   "cell_type": "code",
   "execution_count": 50,
   "metadata": {},
   "outputs": [
    {
     "data": {
      "text/plain": [
       "[('требование', 0.1949483350501153),\n",
       " ('направление фитнес', 0.1913044726720066),\n",
       " ('приоритетный задача', 0.16484952798419195),\n",
       " ('заниматься', 0.16355851888551887),\n",
       " ('особенно', 0.14604191241120604),\n",
       " ('особенность', 0.14604191241120604),\n",
       " ('занятие', 0.14537175376394337),\n",
       " ('направленность', 0.14302172713870068),\n",
       " ('год', 0.14238047118224814),\n",
       " ('годами', 0.14238047118224814),\n",
       " ('определённый', 0.14069930524831592),\n",
       " ('определение', 0.14069930524831592),\n",
       " ('музыкальный сопровождение', 0.13926952983302696),\n",
       " ('соответствие', 0.13702103312067035),\n",
       " ('соответствующий', 0.13702103312067035),\n",
       " ('это', 0.12722094082429175),\n",
       " ('часть', 0.11824693114002062),\n",
       " ('частый', 0.11824693114002062),\n",
       " ('педагогический', 0.1138081974684044),\n",
       " ('произведение', 0.11008635576697966)]"
      ]
     },
     "execution_count": 50,
     "metadata": {},
     "output_type": "execute_result"
    }
   ],
   "source": [
    "summa_4 = keywords.keywords(t4, language='russian', additional_stopwords=stop, scores=True)[:20]\n",
    "summa_4"
   ]
  },
  {
   "cell_type": "markdown",
   "metadata": {},
   "source": [
    "Rutermextract"
   ]
  },
  {
   "cell_type": "code",
   "execution_count": 81,
   "metadata": {},
   "outputs": [
    {
     "name": "stdout",
     "output_type": "stream",
     "text": [
      "Collecting rutermextract\n",
      "  Downloading https://files.pythonhosted.org/packages/7a/db/71ff21868a9065cd1f37d15e88922a790263ef8b565162f13bf1befb2cc0/rutermextract-0.3.tar.gz\n",
      "Requirement already satisfied: pymorphy2>=0.8 in c:\\programdata\\anaconda3\\lib\\site-packages (from rutermextract) (0.8)\n",
      "Requirement already satisfied: docopt>=0.6 in c:\\programdata\\anaconda3\\lib\\site-packages (from pymorphy2>=0.8->rutermextract) (0.6.2)\n",
      "Requirement already satisfied: pymorphy2-dicts<3.0,>=2.4 in c:\\programdata\\anaconda3\\lib\\site-packages (from pymorphy2>=0.8->rutermextract) (2.4.393442.3710985)\n",
      "Requirement already satisfied: dawg-python>=0.7 in c:\\programdata\\anaconda3\\lib\\site-packages (from pymorphy2>=0.8->rutermextract) (0.7.2)\n",
      "Building wheels for collected packages: rutermextract\n",
      "  Building wheel for rutermextract (setup.py): started\n",
      "  Building wheel for rutermextract (setup.py): finished with status 'done'\n",
      "  Stored in directory: C:\\Users\\D9AB~1\\AppData\\Local\\pip\\Cache\\wheels\\c6\\e9\\b1\\8e94bc62c4f62df530c520a3e8dc2b1754d1c78d3862a6e1af\n",
      "Successfully built rutermextract\n",
      "Installing collected packages: rutermextract\n",
      "Successfully installed rutermextract-0.3\n"
     ]
    }
   ],
   "source": [
    "! pip install rutermextract"
   ]
  },
  {
   "cell_type": "code",
   "execution_count": 92,
   "metadata": {},
   "outputs": [],
   "source": [
    "from rutermextract import TermExtractor"
   ]
  },
  {
   "cell_type": "code",
   "execution_count": 86,
   "metadata": {},
   "outputs": [],
   "source": [
    "def rutermextract(text):\n",
    "    term_extractor = TermExtractor()\n",
    "    key_terms = []\n",
    "    for term in term_extractor(text):\n",
    "        termin = []\n",
    "        termin.append(term.normalized)\n",
    "        termin.append(term.count)\n",
    "        key_terms.append(termin)\n",
    "    return key_terms[:20]"
   ]
  },
  {
   "cell_type": "code",
   "execution_count": 93,
   "metadata": {},
   "outputs": [],
   "source": [
    "r1 = rutermextract(t1)\n",
    "r2 = rutermextract(t2)\n",
    "r3 = rutermextract(t3)\n",
    "r4 = rutermextract(t4)"
   ]
  },
  {
   "cell_type": "code",
   "execution_count": 148,
   "metadata": {},
   "outputs": [
    {
     "data": {
      "text/plain": [
       "[['дерево', 90],\n",
       " ['леса', 28],\n",
       " ['берёза', 27],\n",
       " ['человек', 25],\n",
       " ['ель', 23],\n",
       " ['место', 20],\n",
       " ['умерший', 18],\n",
       " ['хозяин', 16],\n",
       " ['мочь', 15],\n",
       " ['моление', 14],\n",
       " ['божество', 13],\n",
       " ['святилище', 12],\n",
       " ['липа', 12],\n",
       " ['ствол', 10],\n",
       " ['луда', 10],\n",
       " ['дуб', 10],\n",
       " ['время', 10],\n",
       " ['удмурт', 9],\n",
       " ['смерть', 9],\n",
       " ['нея', 9]]"
      ]
     },
     "execution_count": 148,
     "metadata": {},
     "output_type": "execute_result"
    }
   ],
   "source": [
    "r1"
   ]
  },
  {
   "cell_type": "code",
   "execution_count": 149,
   "metadata": {},
   "outputs": [
    {
     "data": {
      "text/plain": [
       "[['гедик', 44],\n",
       " ['орган', 14],\n",
       " ['творчество', 9],\n",
       " ['композитор', 9],\n",
       " ['пьеса', 8],\n",
       " ['органный сфера', 7],\n",
       " ['органист', 7],\n",
       " ['ческий', 6],\n",
       " ['обработка', 6],\n",
       " ['чайковский', 5],\n",
       " ['танеев', 5],\n",
       " ['оркестр', 5],\n",
       " ['год', 5],\n",
       " ['органный произведение', 4],\n",
       " ['московский консерватория', 4],\n",
       " ['фортепиано', 4],\n",
       " ['сфера', 4],\n",
       " ['столетие', 4],\n",
       " ['симфония', 4],\n",
       " ['симфони', 4]]"
      ]
     },
     "execution_count": 149,
     "metadata": {},
     "output_type": "execute_result"
    }
   ],
   "source": [
    "r2"
   ]
  },
  {
   "cell_type": "code",
   "execution_count": 150,
   "metadata": {},
   "outputs": [
    {
     "data": {
      "text/plain": [
       "[['мелодия', 15],\n",
       " ['программность', 14],\n",
       " ['музыка', 14],\n",
       " ['рассказ', 12],\n",
       " ['е', 11],\n",
       " ['подражание', 10],\n",
       " ['пастух', 10],\n",
       " ['мочь', 9],\n",
       " ['инструмент', 9],\n",
       " ['пьеса', 8],\n",
       " ['слушатель', 7],\n",
       " ['наигрыш', 7],\n",
       " ['исполнение', 7],\n",
       " ['звук', 7],\n",
       " ['программный пьеса', 6],\n",
       " ['программный музыка', 6],\n",
       " ['музыкальный инструмент', 6],\n",
       " ['картинный программность', 6],\n",
       " ['случай', 6],\n",
       " ['музыкант', 6]]"
      ]
     },
     "execution_count": 150,
     "metadata": {},
     "output_type": "execute_result"
    }
   ],
   "source": [
    "r3"
   ]
  },
  {
   "cell_type": "code",
   "execution_count": 151,
   "metadata": {},
   "outputs": [
    {
     "data": {
      "text/plain": [
       "[['занятие', 17],\n",
       " ['музыкальный сопровождение', 14],\n",
       " ['фитнес', 14],\n",
       " ['приоритетный задача', 11],\n",
       " ['музыка', 11],\n",
       " ['соответствие', 7],\n",
       " ['психолидер', 7],\n",
       " ['подбор', 7],\n",
       " ['звуколидер', 7],\n",
       " ['2008 год', 6],\n",
       " ['музыкальный произведение', 5],\n",
       " ['двигательный действие', 5],\n",
       " ['направление', 5],\n",
       " ['использование', 5],\n",
       " ['характер', 4],\n",
       " ['требование', 4],\n",
       " ['рис', 4],\n",
       " ['применение', 4],\n",
       " ['особенность', 4],\n",
       " ['задача', 4]]"
      ]
     },
     "execution_count": 151,
     "metadata": {},
     "output_type": "execute_result"
    }
   ],
   "source": [
    "r4"
   ]
  },
  {
   "cell_type": "markdown",
   "metadata": {},
   "source": [
    "Patterns"
   ]
  },
  {
   "cell_type": "code",
   "execution_count": 109,
   "metadata": {},
   "outputs": [],
   "source": [
    "patterns = [['NOUN'], ['ADJF', 'NOUN'], ['NOUN', 'ADJF']]"
   ]
  },
  {
   "cell_type": "code",
   "execution_count": 139,
   "metadata": {},
   "outputs": [],
   "source": [
    "def check_pattern(key_words_list, patterns):\n",
    "    filtered_keywords = []\n",
    "    for item in key_words_list:\n",
    "        if type(item) != list:\n",
    "            item = list(item)\n",
    "        check_pattern = []\n",
    "        if ' ' in item[0]:\n",
    "            i = item[0].split(' ')\n",
    "        else:\n",
    "            i = [item[0]]\n",
    "        for word in i:\n",
    "            m = MorphAnalyzer()\n",
    "            p = m.parse(word)[0]\n",
    "            pos = p.tag.POS\n",
    "            check_pattern.append(pos)\n",
    "        for pattern in patterns:\n",
    "            if check_pattern == pattern:\n",
    "                filtered_keywords.append(item)\n",
    "    return filtered_keywords"
   ]
  },
  {
   "cell_type": "code",
   "execution_count": 141,
   "metadata": {},
   "outputs": [],
   "source": [
    "filtered_list_1 = check_pattern(list_1, patterns)\n",
    "filtered_list_2 = check_pattern(list_2, patterns)\n",
    "filtered_list_3 = check_pattern(list_3, patterns)\n",
    "filtered_list_4 = check_pattern(list_4, patterns)\n",
    "filtered_summa_1 = check_pattern(summa_1, patterns)\n",
    "filtered_summa_2 = check_pattern(summa_2, patterns)\n",
    "filtered_summa_3 = check_pattern(summa_3, patterns)\n",
    "filtered_summa_4 = check_pattern(summa_4, patterns)\n",
    "filtered_r1 = check_pattern(r1, patterns)\n",
    "filtered_r2 = check_pattern(r2, patterns)\n",
    "filtered_r3 = check_pattern(r3, patterns)\n",
    "filtered_r4 = check_pattern(r4, patterns)"
   ]
  },
  {
   "cell_type": "markdown",
   "metadata": {},
   "source": [
    "Evaluation"
   ]
  },
  {
   "cell_type": "code",
   "execution_count": 145,
   "metadata": {},
   "outputs": [],
   "source": [
    "gold_standard1 = ['святилище', 'дерево', 'священный дерево', 'обряд', 'удмурт', 'ландшафт']\n",
    "gold_standard2 = ['гедике', 'орган', 'оркестр', 'клавирное произведение', 'композиторское творчество', 'пьеса']\n",
    "gold_standard3 = ['программный музыка', 'инструментальный музыка', 'наигрыш', 'звукоподражательность', 'азербайджанский музыка', 'рассказ']\n",
    "gold_standard4 = ['фитнес', 'музыкальный сопровождение', 'телесный ощущение', 'двигательный действие', 'анализ']"
   ]
  },
  {
   "cell_type": "markdown",
   "metadata": {},
   "source": [
    "Чтобы оценить качество, нужно, чтобы в сравнимых элементах было одинаковое количество вхождений. Поскольку объем исходных текстов был большим, в них автоматически выделилось больше ключевых слов. Поэтому буду брать первые n слов в выдаче (или в отфильтрованных по паттернам списках), где n - количество слов в золотом стандарте."
   ]
  },
  {
   "cell_type": "code",
   "execution_count": 191,
   "metadata": {},
   "outputs": [],
   "source": [
    "gold_standard1 = sorted(gold_standard1)\n",
    "gold_standard2 = sorted(gold_standard2)\n",
    "gold_standard3 = sorted(gold_standard3)\n",
    "gold_standard4 = sorted(gold_standard4)"
   ]
  },
  {
   "cell_type": "code",
   "execution_count": 208,
   "metadata": {},
   "outputs": [],
   "source": [
    "def get_scores(true, pred):\n",
    "    intersections = 0\n",
    "    for el in pred:\n",
    "        if el in true:\n",
    "            intersections += 1\n",
    "    try:\n",
    "        precision = intersections / len(pred)\n",
    "    except ZeroDivisionError:\n",
    "        precision = 0\n",
    "    \n",
    "    try:\n",
    "        recall = intersections / len(true)\n",
    "    except ZeroDivisionError:\n",
    "        recall = 0\n",
    "        \n",
    "    try:\n",
    "        f1_score = 2 * (precision * recall) / (precision + recall)\n",
    "    except ZeroDivisionError:\n",
    "        f1_score = 0\n",
    "        \n",
    "    return [precision, recall, f1_score]"
   ]
  },
  {
   "cell_type": "markdown",
   "metadata": {},
   "source": [
    "Текст 1"
   ]
  },
  {
   "cell_type": "code",
   "execution_count": 218,
   "metadata": {},
   "outputs": [],
   "source": [
    "list_1_eval = []\n",
    "for el in list_1:\n",
    "    list_1_eval.append(el[0])"
   ]
  },
  {
   "cell_type": "code",
   "execution_count": 220,
   "metadata": {},
   "outputs": [],
   "source": [
    "list_1_filtered_eval = []\n",
    "for el in filtered_list_1:\n",
    "    list_1_eval.append(el[0])"
   ]
  },
  {
   "cell_type": "code",
   "execution_count": 221,
   "metadata": {},
   "outputs": [
    {
     "data": {
      "text/plain": [
       "[0.0, 0.0, 0]"
      ]
     },
     "execution_count": 221,
     "metadata": {},
     "output_type": "execute_result"
    }
   ],
   "source": [
    "get_scores(gold_standard1, list_1_eval[:len(gold_standard1)])"
   ]
  },
  {
   "cell_type": "code",
   "execution_count": 222,
   "metadata": {},
   "outputs": [
    {
     "data": {
      "text/plain": [
       "[0, 0.0, 0]"
      ]
     },
     "execution_count": 222,
     "metadata": {},
     "output_type": "execute_result"
    }
   ],
   "source": [
    "get_scores(gold_standard1, list_1_filtered_eval[:len(gold_standard1)])"
   ]
  },
  {
   "cell_type": "code",
   "execution_count": 224,
   "metadata": {},
   "outputs": [],
   "source": [
    "summa_1_eval = []\n",
    "for el in summa_1:\n",
    "    summa_1_eval.append(el[0])\n",
    "summa_1_filtered_eval = []\n",
    "for el in filtered_summa_1:\n",
    "    summa_1_filtered_eval.append(el[0])"
   ]
  },
  {
   "cell_type": "code",
   "execution_count": 225,
   "metadata": {},
   "outputs": [
    {
     "data": {
      "text/plain": [
       "[0.0, 0.0, 0]"
      ]
     },
     "execution_count": 225,
     "metadata": {},
     "output_type": "execute_result"
    }
   ],
   "source": [
    "get_scores(gold_standard1, summa_1_eval[:len(gold_standard1)])"
   ]
  },
  {
   "cell_type": "code",
   "execution_count": 226,
   "metadata": {},
   "outputs": [
    {
     "data": {
      "text/plain": [
       "[0.16666666666666666, 0.16666666666666666, 0.16666666666666666]"
      ]
     },
     "execution_count": 226,
     "metadata": {},
     "output_type": "execute_result"
    }
   ],
   "source": [
    "get_scores(gold_standard1, summa_1_filtered_eval[:len(gold_standard1)])"
   ]
  },
  {
   "cell_type": "code",
   "execution_count": 227,
   "metadata": {},
   "outputs": [],
   "source": [
    "r1_eval = []\n",
    "for el in r1:\n",
    "    r1_eval.append(el[0])\n",
    "r1_filtered_eval = []\n",
    "for el in filtered_r1:\n",
    "    r1_filtered_eval.append(el[0])"
   ]
  },
  {
   "cell_type": "code",
   "execution_count": 231,
   "metadata": {},
   "outputs": [
    {
     "data": {
      "text/plain": [
       "[0.16666666666666666, 0.16666666666666666, 0.16666666666666666]"
      ]
     },
     "execution_count": 231,
     "metadata": {},
     "output_type": "execute_result"
    }
   ],
   "source": [
    "get_scores(gold_standard1, r1_eval[:len(gold_standard1)])"
   ]
  },
  {
   "cell_type": "code",
   "execution_count": 233,
   "metadata": {},
   "outputs": [
    {
     "data": {
      "text/plain": [
       "[0.16666666666666666, 0.16666666666666666, 0.16666666666666666]"
      ]
     },
     "execution_count": 233,
     "metadata": {},
     "output_type": "execute_result"
    }
   ],
   "source": [
    "get_scores(gold_standard1, r1_filtered_eval[:len(gold_standard1)])"
   ]
  },
  {
   "cell_type": "markdown",
   "metadata": {},
   "source": [
    "Текст 2"
   ]
  },
  {
   "cell_type": "code",
   "execution_count": 235,
   "metadata": {},
   "outputs": [],
   "source": [
    "list_2_eval = []\n",
    "for el in list_2:\n",
    "    list_2_eval.append(el[0])\n",
    "list_2_filtered_eval = []\n",
    "for el in filtered_list_2:\n",
    "    list_2_filtered_eval.append(el[0])"
   ]
  },
  {
   "cell_type": "code",
   "execution_count": 240,
   "metadata": {},
   "outputs": [
    {
     "name": "stdout",
     "output_type": "stream",
     "text": [
      "[0.16666666666666666, 0.16666666666666666, 0.16666666666666666]\n",
      "[0.16666666666666666, 0.16666666666666666, 0.16666666666666666]\n"
     ]
    }
   ],
   "source": [
    "print(get_scores(gold_standard2, list_2_eval[:len(gold_standard2)]))\n",
    "print(get_scores(gold_standard2, list_2_filtered_eval[:len(gold_standard2)]))"
   ]
  },
  {
   "cell_type": "code",
   "execution_count": 241,
   "metadata": {},
   "outputs": [],
   "source": [
    "summa_2_eval = []\n",
    "for el in summa_2:\n",
    "    summa_2_eval.append(el[0])\n",
    "summa_2_filtered_eval = []\n",
    "for el in filtered_summa_2:\n",
    "    summa_2_filtered_eval.append(el[0])"
   ]
  },
  {
   "cell_type": "code",
   "execution_count": 242,
   "metadata": {},
   "outputs": [
    {
     "name": "stdout",
     "output_type": "stream",
     "text": [
      "[0.0, 0.0, 0]\n",
      "[0.16666666666666666, 0.16666666666666666, 0.16666666666666666]\n"
     ]
    }
   ],
   "source": [
    "print(get_scores(gold_standard2, summa_2_eval[:len(gold_standard2)]))\n",
    "print(get_scores(gold_standard2, summa_2_filtered_eval[:len(gold_standard2)]))"
   ]
  },
  {
   "cell_type": "code",
   "execution_count": 243,
   "metadata": {},
   "outputs": [],
   "source": [
    "r2_eval = []\n",
    "for el in r2:\n",
    "    r2_eval.append(el[0])\n",
    "r2_filtered_eval = []\n",
    "for el in filtered_r2:\n",
    "    r2_filtered_eval.append(el[0])"
   ]
  },
  {
   "cell_type": "code",
   "execution_count": 244,
   "metadata": {},
   "outputs": [
    {
     "name": "stdout",
     "output_type": "stream",
     "text": [
      "[0.3333333333333333, 0.3333333333333333, 0.3333333333333333]\n",
      "[0.3333333333333333, 0.3333333333333333, 0.3333333333333333]\n"
     ]
    }
   ],
   "source": [
    "print(get_scores(gold_standard2, r2_eval[:len(gold_standard2)]))\n",
    "print(get_scores(gold_standard2, r2_filtered_eval[:len(gold_standard2)]))"
   ]
  },
  {
   "cell_type": "markdown",
   "metadata": {},
   "source": [
    "Текст 3"
   ]
  },
  {
   "cell_type": "code",
   "execution_count": 245,
   "metadata": {},
   "outputs": [],
   "source": [
    "list_3_eval = []\n",
    "for el in list_3:\n",
    "    list_3_eval.append(el[0])\n",
    "list_3_filtered_eval = []\n",
    "for el in filtered_list_3:\n",
    "    list_3_filtered_eval.append(el[0])"
   ]
  },
  {
   "cell_type": "code",
   "execution_count": 246,
   "metadata": {},
   "outputs": [
    {
     "name": "stdout",
     "output_type": "stream",
     "text": [
      "[0.0, 0.0, 0]\n",
      "[0.0, 0.0, 0]\n"
     ]
    }
   ],
   "source": [
    "print(get_scores(gold_standard3, list_3_eval[:len(gold_standard3)]))\n",
    "print(get_scores(gold_standard3, list_3_filtered_eval[:len(gold_standard3)]))"
   ]
  },
  {
   "cell_type": "code",
   "execution_count": 247,
   "metadata": {},
   "outputs": [],
   "source": [
    "summa_3_eval = []\n",
    "for el in summa_3:\n",
    "    summa_3_eval.append(el[0])\n",
    "summa_3_filtered_eval = []\n",
    "for el in filtered_summa_3:\n",
    "    summa_3_filtered_eval.append(el[0])"
   ]
  },
  {
   "cell_type": "code",
   "execution_count": 248,
   "metadata": {},
   "outputs": [
    {
     "name": "stdout",
     "output_type": "stream",
     "text": [
      "[0.16666666666666666, 0.16666666666666666, 0.16666666666666666]\n",
      "[0.16666666666666666, 0.16666666666666666, 0.16666666666666666]\n"
     ]
    }
   ],
   "source": [
    "print(get_scores(gold_standard3, summa_3_eval[:len(gold_standard3)]))\n",
    "print(get_scores(gold_standard3, summa_3_filtered_eval[:len(gold_standard3)]))"
   ]
  },
  {
   "cell_type": "code",
   "execution_count": 249,
   "metadata": {},
   "outputs": [],
   "source": [
    "r3_eval = []\n",
    "for el in r3:\n",
    "    r3_eval.append(el[0])\n",
    "r3_filtered_eval = []\n",
    "for el in filtered_r3:\n",
    "    r3_filtered_eval.append(el[0])"
   ]
  },
  {
   "cell_type": "code",
   "execution_count": 250,
   "metadata": {},
   "outputs": [
    {
     "name": "stdout",
     "output_type": "stream",
     "text": [
      "[0.16666666666666666, 0.16666666666666666, 0.16666666666666666]\n",
      "[0.16666666666666666, 0.16666666666666666, 0.16666666666666666]\n"
     ]
    }
   ],
   "source": [
    "print(get_scores(gold_standard3, r3_eval[:len(gold_standard3)]))\n",
    "print(get_scores(gold_standard3, r3_filtered_eval[:len(gold_standard3)]))"
   ]
  },
  {
   "cell_type": "markdown",
   "metadata": {},
   "source": [
    "Текст 4"
   ]
  },
  {
   "cell_type": "code",
   "execution_count": 251,
   "metadata": {},
   "outputs": [],
   "source": [
    "list_4_eval = []\n",
    "for el in list_4:\n",
    "    list_4_eval.append(el[0])\n",
    "list_4_filtered_eval = []\n",
    "for el in filtered_list_4:\n",
    "    list_4_filtered_eval.append(el[0])"
   ]
  },
  {
   "cell_type": "code",
   "execution_count": 252,
   "metadata": {},
   "outputs": [
    {
     "name": "stdout",
     "output_type": "stream",
     "text": [
      "[0.2, 0.2, 0.20000000000000004]\n",
      "[0.2, 0.2, 0.20000000000000004]\n"
     ]
    }
   ],
   "source": [
    "print(get_scores(gold_standard4, list_4_eval[:len(gold_standard4)]))\n",
    "print(get_scores(gold_standard4, list_4_filtered_eval[:len(gold_standard4)]))"
   ]
  },
  {
   "cell_type": "code",
   "execution_count": 253,
   "metadata": {},
   "outputs": [],
   "source": [
    "summa_4_eval = []\n",
    "for el in summa_4:\n",
    "    summa_4_eval.append(el[0])\n",
    "summa_4_filtered_eval = []\n",
    "for el in filtered_summa_4:\n",
    "    summa_4_filtered_eval.append(el[0])"
   ]
  },
  {
   "cell_type": "code",
   "execution_count": 254,
   "metadata": {},
   "outputs": [
    {
     "name": "stdout",
     "output_type": "stream",
     "text": [
      "[0.0, 0.0, 0]\n",
      "[0.0, 0.0, 0]\n"
     ]
    }
   ],
   "source": [
    "print(get_scores(gold_standard4, summa_4_eval[:len(gold_standard4)]))\n",
    "print(get_scores(gold_standard4, summa_4_filtered_eval[:len(gold_standard4)]))"
   ]
  },
  {
   "cell_type": "code",
   "execution_count": 255,
   "metadata": {},
   "outputs": [],
   "source": [
    "r4_eval = []\n",
    "for el in r4:\n",
    "    r4_eval.append(el[0])\n",
    "r4_filtered_eval = []\n",
    "for el in filtered_r4:\n",
    "    r4_filtered_eval.append(el[0])"
   ]
  },
  {
   "cell_type": "code",
   "execution_count": 256,
   "metadata": {},
   "outputs": [
    {
     "name": "stdout",
     "output_type": "stream",
     "text": [
      "[0.4, 0.4, 0.4000000000000001]\n",
      "[0.4, 0.4, 0.4000000000000001]\n"
     ]
    }
   ],
   "source": [
    "print(get_scores(gold_standard4, r4_eval[:len(gold_standard4)]))\n",
    "print(get_scores(gold_standard4, r4_filtered_eval[:len(gold_standard4)]))"
   ]
  },
  {
   "cell_type": "markdown",
   "metadata": {},
   "source": [
    "Автоматические методы не всегда выделяют значимые слова, иногда они берут во внимание некоторые общие слова (особенность, определение, принцип, сей день), которые не дают информации о содержании конкретного текста. Возможно, стоит отдельно создать список таких слов и включить в список стоп-слов. Еще были некоторые проблемы с лемматизацией, например, фамилия Гедике, являвшаяся согласно золотому стандарту ключевой, лемматизировалась как гедик, сей день лемматизировалось как \"сеять день\". Морфологические паттерны в некоторых случаях действительно улучшили качество, так как убрали некоторые общие словосочетания (раздвоить вершина, зафиксировать ладками). В некоторых случаях, кажется, выделились просто частотные слова, их тоже нужно отдельно включать в список стоп-слов."
   ]
  }
 ],
 "metadata": {
  "kernelspec": {
   "display_name": "Python 3",
   "language": "python",
   "name": "python3"
  },
  "language_info": {
   "codemirror_mode": {
    "name": "ipython",
    "version": 3
   },
   "file_extension": ".py",
   "mimetype": "text/x-python",
   "name": "python",
   "nbconvert_exporter": "python",
   "pygments_lexer": "ipython3",
   "version": "3.7.3"
  }
 },
 "nbformat": 4,
 "nbformat_minor": 2
}
